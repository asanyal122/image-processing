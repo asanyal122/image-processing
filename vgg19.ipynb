{
  "nbformat": 4,
  "nbformat_minor": 0,
  "metadata": {
    "colab": {
      "name": "Untitled6.ipynb",
      "provenance": [],
      "collapsed_sections": [],
      "include_colab_link": true
    },
    "kernelspec": {
      "name": "python3",
      "display_name": "Python 3"
    },
    "accelerator": "GPU"
  },
  "cells": [
    {
      "cell_type": "markdown",
      "metadata": {
        "id": "view-in-github",
        "colab_type": "text"
      },
      "source": [
        "<a href=\"https://colab.research.google.com/github/asanyal122/image-processing/blob/master/vgg19.ipynb\" target=\"_parent\"><img src=\"https://colab.research.google.com/assets/colab-badge.svg\" alt=\"Open In Colab\"/></a>"
      ]
    },
    {
      "cell_type": "code",
      "metadata": {
        "id": "pK3RFv-aBWc_",
        "colab_type": "code",
        "colab": {
          "base_uri": "https://localhost:8080/",
          "height": 34
        },
        "outputId": "451da853-8caf-4bc3-d943-edb120d4d06a"
      },
      "source": [
        "import keras\n",
        "import matplotlib.pyplot as plt\n",
        "from IPython.display import Image\n",
        "from keras.preprocessing import image\n",
        "from keras.applications import imagenet_utils\n",
        "import numpy as np\n",
        "img=image.load_img('content.jpg',target_size=(224,224,3))\n",
        "print(img)"
      ],
      "execution_count": 46,
      "outputs": [
        {
          "output_type": "stream",
          "text": [
            "<PIL.Image.Image image mode=RGB size=224x224 at 0x7F91A7BF6208>\n"
          ],
          "name": "stdout"
        }
      ]
    },
    {
      "cell_type": "code",
      "metadata": {
        "id": "yeDyXKveMKxH",
        "colab_type": "code",
        "colab": {}
      },
      "source": [
        "img=image.load_img('content.jpg',target_size=(224,224,3))\n",
        "img_array=image.img_to_array(img)\n",
        "img_array_expand=np.expand_dims(img_array,axis=0)\n",
        "inp=keras.applications.mobilenet.preprocess_input(img_array_expand)\n",
        "mobile=keras.applications.mobilenet.MobileNet()\n",
        "vgg=keras.applications.vgg19.VGG19()\n",
        "predictions=vgg.predict(inp)\n",
        "results=imagenet_utils.decode_predictions(predictions)\n",
        "print(results)"
      ],
      "execution_count": 0,
      "outputs": []
    }
  ]
}